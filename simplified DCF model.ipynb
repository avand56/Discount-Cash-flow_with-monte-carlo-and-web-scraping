{
 "cells": [
  {
   "cell_type": "code",
   "execution_count": 1,
   "metadata": {},
   "outputs": [],
   "source": [
    "import numpy as np\n",
    "import pandas as pd\n",
    "import matplotlib.pyplot as plt\n",
    "%matplotlib inline"
   ]
  },
  {
   "cell_type": "code",
   "execution_count": 7,
   "metadata": {},
   "outputs": [
    {
     "name": "stderr",
     "output_type": "stream",
     "text": [
      "C:\\Users\\avand\\miniconda3\\envs\\myEnv\\lib\\site-packages\\ipykernel_launcher.py:2: DeprecationWarning: The default dtype for empty Series will be 'object' instead of 'float64' in a future version. Specify a dtype explicitly to silence this warning.\n",
      "  \n"
     ]
    },
    {
     "data": {
      "text/plain": [
       "2020A    31.0\n",
       "2020B     NaN\n",
       "2021P     NaN\n",
       "2022P     NaN\n",
       "2023P     NaN\n",
       "2023P     NaN\n",
       "dtype: float64"
      ]
     },
     "execution_count": 7,
     "metadata": {},
     "output_type": "execute_result"
    }
   ],
   "source": [
    "years = ['2020A', '2020B', '2021P', '2022P', '2023P', '2023P']\n",
    "sales = pd.Series(index=years)\n",
    "sales['2020A'] = 31.0  \n",
    "sales"
   ]
  },
  {
   "cell_type": "code",
   "execution_count": 8,
   "metadata": {},
   "outputs": [
    {
     "data": {
      "text/plain": [
       "2020A    31.00000\n",
       "2020B    37.20000\n",
       "2021P    44.64000\n",
       "2022P    53.56800\n",
       "2023P    64.28160\n",
       "2023P    77.13792\n",
       "dtype: float64"
      ]
     },
     "execution_count": 8,
     "metadata": {},
     "output_type": "execute_result"
    }
   ],
   "source": [
    "growth_rate = 0.2\n",
    "for year in range(1, 6):\n",
    "    sales[year] = sales[year - 1] * (1 + growth_rate)\n",
    "    \n",
    "sales"
   ]
  },
  {
   "cell_type": "code",
   "execution_count": 9,
   "metadata": {},
   "outputs": [
    {
     "data": {
      "text/plain": [
       "2020A         NaN\n",
       "2020B    1.525200\n",
       "2021P    1.830240\n",
       "2022P    2.196288\n",
       "2023P    2.635546\n",
       "2023P    3.162655\n",
       "dtype: float64"
      ]
     },
     "execution_count": 9,
     "metadata": {},
     "output_type": "execute_result"
    }
   ],
   "source": [
    "#calculate ebitda, depreciaion, tax, capex, change in net working capital\n",
    "ebitda_margin = 0.14 #14% ebitda margin in example\n",
    "depr_percent = 0.032 #depreciation rate (in example it is 3.2%)\n",
    "ebitda = sales * ebitda_margin #earnings before interest, taxes, depreciation, amortization\n",
    "depreciation = sales * depr_percent\n",
    "ebit = ebitda - depreciation\n",
    "\n",
    "# total_lia=\n",
    "nwc_percent = 0.24\n",
    "nwc = sales * nwc_percent\n",
    "change_in_nwc = nwc.shift(1) - nwc \n",
    "capex_percent = depr_percent\n",
    "capex = -(sales * capex_percent)\n",
    "tax_rate = 0.21\n",
    "tax_payment = -ebit * tax_rate\n",
    "tax_payment = tax_payment.apply(lambda x: min(x, 0))\n",
    "\n",
    "\n",
    "free_cash_flow = ebit + depreciation + tax_payment + capex + change_in_nwc\n",
    "free_cash_flow"
   ]
  },
  {
   "cell_type": "code",
   "execution_count": 12,
   "metadata": {},
   "outputs": [
    {
     "data": {
      "text/plain": [
       "26.158295632028334"
      ]
     },
     "execution_count": 12,
     "metadata": {},
     "output_type": "execute_result"
    }
   ],
   "source": [
    "cost_of_capital = 0.12\n",
    "terminal_growth = 0.02\n",
    "terminal_value = ((free_cash_flow[-1] * (1 + terminal_growth)) / \n",
    "                 (cost_of_capital - terminal_growth))\n",
    "discount_factors = [(1 / (1 + cost_of_capital)) ** i for i in range (1,6)]\n",
    "dcf_value = (sum(free_cash_flow[1:] * discount_factors) +\n",
    "            terminal_value * discount_factors[-1])\n",
    "dcf_value"
   ]
  }
 ],
 "metadata": {
  "kernelspec": {
   "display_name": "Python [conda env:myEnv]",
   "language": "python",
   "name": "conda-env-myEnv-py"
  },
  "language_info": {
   "codemirror_mode": {
    "name": "ipython",
    "version": 3
   },
   "file_extension": ".py",
   "mimetype": "text/x-python",
   "name": "python",
   "nbconvert_exporter": "python",
   "pygments_lexer": "ipython3",
   "version": "3.6.4"
  }
 },
 "nbformat": 4,
 "nbformat_minor": 4
}
